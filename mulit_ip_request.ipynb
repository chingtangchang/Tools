{
 "cells": [
  {
   "cell_type": "code",
   "execution_count": 24,
   "metadata": {},
   "outputs": [
    {
     "name": "stdout",
     "output_type": "stream",
     "text": [
      "{'User-Agent': 'Mozilla/5.0 (Linux; Android 4.1.1; Nexus 7 Build/JRO03D) AppleWebKit/535.19 (KHTML, like Gecko) Chrome/18.0.1025.166  Safari/535.19'}\n"
     ]
    }
   ],
   "source": [
    "# -*- coding: UTF-8 -*-\n",
    "from urllib import request\n",
    "\n",
    "if __name__ == \"__main__\":\n",
    "    #以CSDN为例，CSDN不更改User Agent是无法访问的\n",
    "    url = 'http://www.csdn.net/'\n",
    "    head = {}\n",
    "    #写入User Agent信息\n",
    "    head['User-Agent'] = 'Mozilla/5.0 (Linux; Android 4.1.1; Nexus 7 Build/JRO03D) AppleWebKit/535.19 (KHTML, like Gecko) Chrome/18.0.1025.166  Safari/535.19'\n",
    " #创建Request对象\n",
    "    print(head)\n",
    "    req = request.Request(url, headers=head)\n",
    "    #传入创建好的Request对象\n",
    "    response = request.urlopen(req)\n",
    "    #读取响应信息并解码\n",
    "    html = response.read().decode('utf-8')\n",
    "    #打印信息\n",
    "    print(html)\n"
   ]
  },
  {
   "cell_type": "code",
   "execution_count": 7,
   "metadata": {
    "scrolled": true
   },
   "outputs": [
    {
     "ename": "UnicodeDecodeError",
     "evalue": "'utf-8' codec can't decode byte 0xb5 in position 7940: invalid start byte",
     "output_type": "error",
     "traceback": [
      "\u001b[1;31m---------------------------------------------------------------------------\u001b[0m",
      "\u001b[1;31mUnicodeDecodeError\u001b[0m                        Traceback (most recent call last)",
      "\u001b[1;32m<ipython-input-7-5b762bf7ff61>\u001b[0m in \u001b[0;36m<module>\u001b[1;34m()\u001b[0m\n\u001b[0;32m     19\u001b[0m     \u001b[0mresponse\u001b[0m \u001b[1;33m=\u001b[0m \u001b[0mrequest\u001b[0m\u001b[1;33m.\u001b[0m\u001b[0murlopen\u001b[0m\u001b[1;33m(\u001b[0m\u001b[0murl\u001b[0m\u001b[1;33m)\u001b[0m\u001b[1;33m\u001b[0m\u001b[0m\n\u001b[0;32m     20\u001b[0m     \u001b[1;31m#读取相应信息并解码\u001b[0m\u001b[1;33m\u001b[0m\u001b[1;33m\u001b[0m\u001b[0m\n\u001b[1;32m---> 21\u001b[1;33m     \u001b[0mhtml\u001b[0m \u001b[1;33m=\u001b[0m \u001b[0mresponse\u001b[0m\u001b[1;33m.\u001b[0m\u001b[0mread\u001b[0m\u001b[1;33m(\u001b[0m\u001b[1;33m)\u001b[0m\u001b[1;33m.\u001b[0m\u001b[0mdecode\u001b[0m\u001b[1;33m(\u001b[0m\u001b[1;34m\"utf-8\"\u001b[0m\u001b[1;33m)\u001b[0m\u001b[1;33m\u001b[0m\u001b[0m\n\u001b[0m\u001b[0;32m     22\u001b[0m     \u001b[1;31m#打印信息\u001b[0m\u001b[1;33m\u001b[0m\u001b[1;33m\u001b[0m\u001b[0m\n\u001b[0;32m     23\u001b[0m     \u001b[0mprint\u001b[0m\u001b[1;33m(\u001b[0m\u001b[0mhtml\u001b[0m\u001b[1;33m)\u001b[0m\u001b[1;33m\u001b[0m\u001b[0m\n",
      "\u001b[1;31mUnicodeDecodeError\u001b[0m: 'utf-8' codec can't decode byte 0xb5 in position 7940: invalid start byte"
     ]
    }
   ],
   "source": [
    "# -*- coding: UTF-8 -*-\n",
    "from urllib import request\n",
    "\n",
    "if __name__ == \"__main__\":\n",
    "    #访问网址\n",
    "    url = 'http://www.whatismyip.com.tw/'\n",
    "    #这是代理IP\n",
    "#     proxy = {'https':'185.112.249.192:3128'}\n",
    "    proxy = {'http':'182.253.200.210:37308'}\n",
    "    #创建ProxyHandler\n",
    "    proxy_support = request.ProxyHandler(proxy)\n",
    "    #创建Opener\n",
    "    opener = request.build_opener(proxy_support)\n",
    "    #添加User Angent\n",
    "    opener.addheaders = [('User-Agent','Mozilla/5.0 (Windows NT 6.1; Win64; x64) AppleWebKit/537.36 (KHTML, like Gecko) Chrome/56.0.2924.87 Safari/537.36')]\n",
    "    #安装OPener\n",
    "    request.install_opener(opener)\n",
    "    #使用自己安装好的Opener\n",
    "    response = request.urlopen(url)\n",
    "    #读取相应信息并解码\n",
    "    html = response.read().decode(\"utf-8\")\n",
    "    #打印信息\n",
    "    print(html)"
   ]
  },
  {
   "cell_type": "code",
   "execution_count": 50,
   "metadata": {},
   "outputs": [
    {
     "name": "stdout",
     "output_type": "stream",
     "text": [
      "<Response [200]>\n"
     ]
    }
   ],
   "source": [
    "import threading\n",
    "import random\n",
    "import socket\n",
    "import struct\n",
    "import requests\n",
    "import json\n",
    "import time\n",
    "from fake_useragent import UserAgent\n",
    "\n",
    "ua = UserAgent()\n",
    "\n",
    "url = 'http://www.lewdcat.net/forum.php?x=519903'\n",
    "data = {'group': 'gaozhongzu','key' : 10}\n",
    "def createHeader():\n",
    "    ip = socket.inet_ntoa(struct.pack('>I', random.randint(1, 0xffffffff)))\n",
    "    headers = {\n",
    "#         'Content-Type': 'application/x-www-form-urlencoded',\n",
    "        'User-Agent': ua.random,\n",
    "        'CLIENT-IP': ip,\n",
    "        'X-FORWARDED-FOR': ip\n",
    "    }\n",
    "    return headers\n",
    "def toupiao():\n",
    "    index = 0\n",
    "    headers = createHeader();\n",
    "#     print(headers)\n",
    "#     while True:\n",
    "    html = requests.post(url,  headers=headers)\n",
    "#     result = html.read().decode(\"utf-8\")\n",
    "    print(html)\n",
    "#         if(index == 10000):\n",
    "#             print (index)\n",
    "#             break\n",
    "toupiao()"
   ]
  },
  {
   "cell_type": "code",
   "execution_count": 31,
   "metadata": {},
   "outputs": [
    {
     "data": {
      "text/plain": [
       "'Mozilla/5.0 (Windows NT 6.1; WOW64; rv:23.0) Gecko/20130406 Firefox/23.0'"
      ]
     },
     "execution_count": 31,
     "metadata": {},
     "output_type": "execute_result"
    }
   ],
   "source": [
    "from fake_useragent import UserAgent\n",
    "import requests\n",
    " \n",
    "ua = UserAgent()\n",
    "# headers = {\n",
    "#     'User-Agent': ua.random\n",
    "# }\n",
    "ua.random"
   ]
  },
  {
   "cell_type": "code",
   "execution_count": null,
   "metadata": {
    "collapsed": true
   },
   "outputs": [],
   "source": []
  }
 ],
 "metadata": {
  "kernelspec": {
   "display_name": "Python 3",
   "language": "python",
   "name": "python3"
  },
  "language_info": {
   "codemirror_mode": {
    "name": "ipython",
    "version": 3
   },
   "file_extension": ".py",
   "mimetype": "text/x-python",
   "name": "python",
   "nbconvert_exporter": "python",
   "pygments_lexer": "ipython3",
   "version": "3.5.6"
  }
 },
 "nbformat": 4,
 "nbformat_minor": 2
}
